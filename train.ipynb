{
 "cells": [
  {
   "cell_type": "code",
   "execution_count": 1,
   "metadata": {},
   "outputs": [],
   "source": [
    "from datetime import datetime\n",
    "import tensorflow as tf\n",
    "import numpy as np\n",
    "from PIL import Image\n",
    "from tqdm import tqdm\n",
    "\n",
    "from alexnet import AlexNet\n",
    "from image_loader import load_images\n",
    "from util import shuffle, get_batch"
   ]
  },
  {
   "cell_type": "code",
   "execution_count": 2,
   "metadata": {},
   "outputs": [],
   "source": [
    "learning_rate = 0.001\n",
    "num_epochs = 3\n",
    "batch_size = 128\n",
    "\n",
    "dropout_rate = 0.5\n",
    "num_classes = 2\n",
    "\n",
    "# how often to write tf.summary to disk\n",
    "display_step = 20"
   ]
  },
  {
   "cell_type": "code",
   "execution_count": 3,
   "metadata": {},
   "outputs": [],
   "source": [
    "X = tf.placeholder(tf.float32, shape=(batch_size, 150, 150, 1))\n",
    "Y = tf.placeholder(tf.float32, shape=(batch_size, num_classes))\n",
    "dropout = tf.placeholder(tf.float32)\n",
    "\n",
    "model = AlexNet(X, dropout, num_classes)\n",
    "\n",
    "loss = tf.reduce_mean(tf.nn.softmax_cross_entropy_with_logits(logits=model.logits, labels=Y))\n",
    "\n",
    "with tf.name_scope(\"train\"):\n",
    "    optimizer = tf.train.AdamOptimizer(learning_rate)\n",
    "    optimization_op = optimizer.minimize(loss)\n",
    "\n",
    "tf.summary.scalar('loss', loss)\n",
    "\n",
    "with tf.name_scope(\"accuracy\"):\n",
    "    predictions = tf.argmax(model.logits, axis=1)\n",
    "    correct_predictions = tf.equal(predictions, tf.argmax(Y, axis=1))\n",
    "    accuracy = tf.reduce_mean(tf.cast(correct_predictions, tf.float32))\n",
    "\n",
    "tf.summary.scalar('training_accuracy', accuracy)\n",
    "\n",
    "merged_summary = tf.summary.merge_all()\n",
    "writer = tf.summary.FileWriter(\"./tensorboard\")\n",
    "saver = tf.train.Saver()"
   ]
  },
  {
   "cell_type": "code",
   "execution_count": 4,
   "metadata": {},
   "outputs": [],
   "source": [
    "molecule_images = load_images(\"./positives/images/*.png\")\n",
    "non_molecule_images = load_images(\"./negatives/tiles/*.png\")"
   ]
  },
  {
   "cell_type": "code",
   "execution_count": 5,
   "metadata": {},
   "outputs": [],
   "source": [
    "n_pos = molecule_images.shape[0]\n",
    "n_neg = molecule_images.shape[0]\n",
    "\n",
    "positive_labels = np.stack((np.ones(n_pos), np.zeros(n_pos)), axis=1)\n",
    "negative_labels = np.stack((np.zeros(n_neg), np.ones(n_neg)), axis=1)\n",
    "\n",
    "x = np.vstack((molecule_images, non_molecule_images))\n",
    "y = np.vstack((positive_labels, negative_labels))\n",
    "\n",
    "m = x.shape[0]\n",
    "\n",
    "x, y = shuffle(x, y)\n",
    "\n",
    "train_x = x[:-2000]\n",
    "train_y = y[:-2000]\n",
    "\n",
    "test_x = x[-2000:]\n",
    "test_y = y[-2000:]"
   ]
  },
  {
   "cell_type": "code",
   "execution_count": 6,
   "metadata": {},
   "outputs": [
    {
     "name": "stdout",
     "output_type": "stream",
     "text": [
      "2017-12-26 21:23:09.631089 epoch number: 1\n"
     ]
    },
    {
     "name": "stderr",
     "output_type": "stream",
     "text": [
      "100%|██████████| 138/138 [05:42<00:00,  2.48s/it]\n"
     ]
    },
    {
     "name": "stdout",
     "output_type": "stream",
     "text": [
      "test accuracy = 0.9974\n",
      "2017-12-26 21:29:01.926146 epoch number: 2\n"
     ]
    },
    {
     "name": "stderr",
     "output_type": "stream",
     "text": [
      "100%|██████████| 138/138 [05:43<00:00,  2.49s/it]\n"
     ]
    },
    {
     "name": "stdout",
     "output_type": "stream",
     "text": [
      "test accuracy = 0.9984\n",
      "2017-12-26 21:34:55.223139 epoch number: 3\n"
     ]
    },
    {
     "name": "stderr",
     "output_type": "stream",
     "text": [
      "100%|██████████| 138/138 [05:48<00:00,  2.52s/it]\n"
     ]
    },
    {
     "name": "stdout",
     "output_type": "stream",
     "text": [
      "test accuracy = 0.9990\n"
     ]
    }
   ],
   "source": [
    "training_batches_per_epoch = int(np.floor(train_x.shape[0] / batch_size))\n",
    "test_batches_per_epoch = int(np.floor(test_x.shape[0] / batch_size))\n",
    "\n",
    "with tf.Session() as sess:\n",
    "    sess.run(tf.global_variables_initializer())\n",
    "    writer.add_graph(sess.graph)\n",
    "\n",
    "    for epoch in range(num_epochs):\n",
    "        print(\"{} epoch number: {}\".format(datetime.now(), epoch + 1))\n",
    "        train_x, train_y = shuffle(train_x, train_y)\n",
    "        \n",
    "        for step in tqdm(range(training_batches_per_epoch)):\n",
    "            x_batch, y_batch = get_batch(train_x, train_y, step, batch_size)\n",
    "            sess.run(optimization_op, feed_dict={X: x_batch, Y: y_batch, dropout: dropout_rate })\n",
    "\n",
    "            if step % display_step == 0:\n",
    "                summ = sess.run(merged_summary, feed_dict={X: x_batch, Y: y_batch, dropout: 0 })\n",
    "                writer.add_summary(summ, epoch * training_batches_per_epoch + step)\n",
    "                writer.flush()\n",
    "\n",
    "        test_acc = 0\n",
    "        test_count = 0\n",
    "        for step in range(test_batches_per_epoch):\n",
    "            x_batch, y_batch = get_batch(test_x, test_y, step, batch_size)\n",
    "            acc = sess.run(accuracy, feed_dict={X: x_batch, Y: y_batch, dropout: 0 })\n",
    "            test_acc += acc\n",
    "            test_count += 1\n",
    "\n",
    "        print(\"test accuracy = {:.4f}\".format(test_acc / test_count))\n",
    "    \n",
    "    saver.save(sess, \"./model.ckpt\")"
   ]
  },
  {
   "cell_type": "code",
   "execution_count": null,
   "metadata": {},
   "outputs": [],
   "source": []
  }
 ],
 "metadata": {
  "kernelspec": {
   "display_name": "Python 3",
   "language": "python",
   "name": "python3"
  },
  "language_info": {
   "codemirror_mode": {
    "name": "ipython",
    "version": 3
   },
   "file_extension": ".py",
   "mimetype": "text/x-python",
   "name": "python",
   "nbconvert_exporter": "python",
   "pygments_lexer": "ipython3",
   "version": "3.6.2"
  }
 },
 "nbformat": 4,
 "nbformat_minor": 2
}
